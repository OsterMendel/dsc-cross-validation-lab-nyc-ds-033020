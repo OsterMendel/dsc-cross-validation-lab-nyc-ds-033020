{
 "cells": [
  {
   "cell_type": "markdown",
   "metadata": {},
   "source": [
    "# Introduction to Cross-Validation - Lab\n",
    "\n",
    "## Introduction\n",
    "\n",
    "In this lab, you'll be able to practice your cross-validation skills!\n",
    "\n",
    "\n",
    "## Objectives\n",
    "\n",
    "You will be able to:\n",
    "\n",
    "- Perform cross validation on a model to determine optimal model performance\n",
    "- Compare training and testing errors to determine if model is over or underfitting"
   ]
  },
  {
   "cell_type": "markdown",
   "metadata": {},
   "source": [
    "## Let's get started\n",
    "\n",
    "We included the code to pre-process below."
   ]
  },
  {
   "cell_type": "code",
   "execution_count": 1,
   "metadata": {},
   "outputs": [],
   "source": [
    "import pandas as pd\n",
    "import numpy as np\n",
    "import matplotlib.pyplot as plt\n",
    "%matplotlib inline\n",
    "\n",
    "ames = pd.read_csv('ames.csv')\n",
    "\n",
    "continuous = ['LotArea', '1stFlrSF', 'GrLivArea', 'SalePrice']\n",
    "categoricals = ['BldgType', 'KitchenQual', 'SaleType', 'MSZoning', 'Street', 'Neighborhood']\n",
    "\n",
    "ames_cont = ames[continuous]\n",
    "\n",
    "# log features\n",
    "log_names = [f'{column}_log' for column in ames_cont.columns]\n",
    "\n",
    "ames_log = np.log(ames_cont)\n",
    "ames_log.columns = log_names\n",
    "\n",
    "# normalize (subract mean and divide by std)\n",
    "\n",
    "def normalize(feature):\n",
    "    return (feature - feature.mean()) / feature.std()\n",
    "\n",
    "ames_log_norm = ames_log.apply(normalize)\n",
    "\n",
    "# one hot encode categoricals\n",
    "ames_ohe = pd.get_dummies(ames[categoricals], prefix=categoricals, drop_first=True)\n",
    "\n",
    "preprocessed = pd.concat([ames_log_norm, ames_ohe], axis=1)\n",
    "\n",
    "X = preprocessed.drop('SalePrice_log', axis=1)\n",
    "y = preprocessed['SalePrice_log']"
   ]
  },
  {
   "cell_type": "markdown",
   "metadata": {},
   "source": [
    "### Train-test split\n",
    "\n",
    "Perform a train-test split with a test set of 20%."
   ]
  },
  {
   "cell_type": "code",
   "execution_count": 2,
   "metadata": {},
   "outputs": [],
   "source": [
    "\n",
    "\n",
    "from sklearn.model_selection import train_test_split\n",
    "X_train, X_test, y_train, y_test = train_test_split(X,y,test_size=.2)"
   ]
  },
  {
   "cell_type": "code",
   "execution_count": 3,
   "metadata": {},
   "outputs": [],
   "source": [
    "# Split the data into training and test sets (assign 20% to test set)"
   ]
  },
  {
   "cell_type": "code",
   "execution_count": 4,
   "metadata": {},
   "outputs": [
    {
     "name": "stdout",
     "output_type": "stream",
     "text": [
      "1168 292 1168 292\n"
     ]
    }
   ],
   "source": [
    "# A brief preview of train-test split\n",
    "print(len(X_train), len(X_test), len(y_train), len(y_test))\n"
   ]
  },
  {
   "cell_type": "markdown",
   "metadata": {},
   "source": [
    "### Fit the model"
   ]
  },
  {
   "cell_type": "markdown",
   "metadata": {},
   "source": [
    "Fit a linear regression model and apply the model to make predictions on test set"
   ]
  },
  {
   "cell_type": "code",
   "execution_count": 5,
   "metadata": {},
   "outputs": [],
   "source": [
    "# Your code here\n",
    "from sklearn.linear_model import LinearRegression\n",
    "reg = LinearRegression()\n",
    "model = reg.fit(X,y)"
   ]
  },
  {
   "cell_type": "markdown",
   "metadata": {},
   "source": [
    "### Residuals and MSE"
   ]
  },
  {
   "cell_type": "markdown",
   "metadata": {},
   "source": [
    "Calculate the residuals and the mean squared error on the test set"
   ]
  },
  {
   "cell_type": "code",
   "execution_count": 6,
   "metadata": {},
   "outputs": [
    {
     "name": "stdout",
     "output_type": "stream",
     "text": [
      "0.1602792756622168\n",
      "0.1635812507240429\n"
     ]
    }
   ],
   "source": [
    "# Your code here\n",
    "y_train_hat = model.predict(X_train)\n",
    "y_test_hat = model.predict(X_test)\n",
    "\n",
    "train_mse = sum((y_train_hat - y_train) **2) / len(y_train)\n",
    "test_mse =  sum((y_test_hat - y_test) **2) / len(y_test)\n",
    "\n",
    "print(train_mse)\n",
    "print(test_mse)"
   ]
  },
  {
   "cell_type": "markdown",
   "metadata": {},
   "source": [
    "## Cross-Validation: let's build it from scratch!"
   ]
  },
  {
   "cell_type": "markdown",
   "metadata": {},
   "source": [
    "### Create a cross-validation function"
   ]
  },
  {
   "cell_type": "markdown",
   "metadata": {},
   "source": [
    "Write a function `kfolds()` that splits a dataset into k evenly sized pieces. If the full dataset is not divisible by k, make the first few folds one larger then later ones.\n",
    "\n",
    "We want the folds to be a list of subsets of data!"
   ]
  },
  {
   "cell_type": "code",
   "execution_count": 7,
   "metadata": {},
   "outputs": [],
   "source": [
    "def kfolds(data, k):\n",
    "    # Force data as pandas DataFrame\n",
    "    import pandas as pd\n",
    "    df = pd.DataFrame(data)\n",
    "    # add 1 to fold size to account for leftovers\n",
    "    \n",
    "    def folds(len_data,k):\n",
    "        folds2 =[]\n",
    "        for i in range(k):\n",
    "            if i == 0:\n",
    "                fold = (len_data // k) + (len_data % k)\n",
    "                folds2.append(fold)\n",
    "            else:\n",
    "                fold = (len_data // k)\n",
    "                folds2.append(fold)\n",
    "        return folds2\n",
    "    \n",
    "    fold_lens = folds(len(data),k)\n",
    "    subsets = []\n",
    "    import random\n",
    "    rows = random.sample(range(len(data)),len(data))\n",
    "    for i in fold_lens:\n",
    "        current_rows = rows[:i]\n",
    "        del rows[:i]\n",
    "        subset = df.iloc[current_rows]\n",
    "        subsets.append(subset)\n",
    "    return subsets"
   ]
  },
  {
   "cell_type": "markdown",
   "metadata": {},
   "source": [
    "### Apply it to the Ames Housing data"
   ]
  },
  {
   "cell_type": "code",
   "execution_count": 8,
   "metadata": {},
   "outputs": [],
   "source": [
    "# Make sure to concatenate the data again\n",
    "ames_data = pd.concat([X,y])"
   ]
  },
  {
   "cell_type": "code",
   "execution_count": 9,
   "metadata": {},
   "outputs": [
    {
     "data": {
      "text/plain": [
       "[             0  1stFlrSF_log  BldgType_2fmCon  BldgType_Duplex  \\\n",
       " 467  -0.323619           NaN              NaN              NaN   \n",
       " 630  -0.741051           NaN              NaN              NaN   \n",
       " 1340       NaN     -0.745010              0.0              0.0   \n",
       " 1087  1.034251           NaN              NaN              NaN   \n",
       " 632        NaN      0.769686              0.0              0.0   \n",
       " ...        ...           ...              ...              ...   \n",
       " 31         NaN      0.332486              0.0              0.0   \n",
       " 670   0.099842           NaN              NaN              NaN   \n",
       " 168        NaN     -0.862680              0.0              0.0   \n",
       " 1354       NaN     -0.339213              0.0              0.0   \n",
       " 1319 -1.018309           NaN              NaN              NaN   \n",
       " \n",
       "       BldgType_Twnhs  BldgType_TwnhsE  GrLivArea_log  KitchenQual_Fa  \\\n",
       " 467              NaN              NaN            NaN             NaN   \n",
       " 630              NaN              NaN            NaN             NaN   \n",
       " 1340             0.0              0.0      -1.489984             0.0   \n",
       " 1087             NaN              NaN            NaN             NaN   \n",
       " 632              0.0              0.0      -0.047131             0.0   \n",
       " ...              ...              ...            ...             ...   \n",
       " 31               0.0              0.0      -0.463595             0.0   \n",
       " 670              NaN              NaN            NaN             NaN   \n",
       " 168              0.0              0.0       0.546560             0.0   \n",
       " 1354             0.0              0.0       0.789212             0.0   \n",
       " 1319             NaN              NaN            NaN             NaN   \n",
       " \n",
       "       KitchenQual_Gd  KitchenQual_TA  ...  Neighborhood_Veenker  SaleType_CWD  \\\n",
       " 467              NaN             NaN  ...                   NaN           NaN   \n",
       " 630              NaN             NaN  ...                   NaN           NaN   \n",
       " 1340             0.0             1.0  ...                   0.0           0.0   \n",
       " 1087             NaN             NaN  ...                   NaN           NaN   \n",
       " 632              0.0             1.0  ...                   0.0           0.0   \n",
       " ...              ...             ...  ...                   ...           ...   \n",
       " 31               1.0             0.0  ...                   0.0           0.0   \n",
       " 670              NaN             NaN  ...                   NaN           NaN   \n",
       " 168              1.0             0.0  ...                   0.0           0.0   \n",
       " 1354             1.0             0.0  ...                   0.0           0.0   \n",
       " 1319             NaN             NaN  ...                   NaN           NaN   \n",
       " \n",
       "       SaleType_Con  SaleType_ConLD  SaleType_ConLI  SaleType_ConLw  \\\n",
       " 467            NaN             NaN             NaN             NaN   \n",
       " 630            NaN             NaN             NaN             NaN   \n",
       " 1340           0.0             0.0             0.0             0.0   \n",
       " 1087           NaN             NaN             NaN             NaN   \n",
       " 632            0.0             0.0             0.0             0.0   \n",
       " ...            ...             ...             ...             ...   \n",
       " 31             0.0             0.0             0.0             0.0   \n",
       " 670            NaN             NaN             NaN             NaN   \n",
       " 168            0.0             0.0             0.0             0.0   \n",
       " 1354           0.0             0.0             0.0             0.0   \n",
       " 1319           NaN             NaN             NaN             NaN   \n",
       " \n",
       "       SaleType_New  SaleType_Oth  SaleType_WD  Street_Pave  \n",
       " 467            NaN           NaN          NaN          NaN  \n",
       " 630            NaN           NaN          NaN          NaN  \n",
       " 1340           0.0           0.0          1.0          1.0  \n",
       " 1087           NaN           NaN          NaN          NaN  \n",
       " 632            0.0           0.0          1.0          1.0  \n",
       " ...            ...           ...          ...          ...  \n",
       " 31             0.0           0.0          1.0          1.0  \n",
       " 670            NaN           NaN          NaN          NaN  \n",
       " 168            0.0           0.0          1.0          1.0  \n",
       " 1354           0.0           0.0          1.0          1.0  \n",
       " 1319           NaN           NaN          NaN          NaN  \n",
       " \n",
       " [584 rows x 48 columns],\n",
       "              0  1stFlrSF_log  BldgType_2fmCon  BldgType_Duplex  \\\n",
       " 579        NaN     -0.160375              0.0              0.0   \n",
       " 268        NaN     -1.104003              0.0              0.0   \n",
       " 24         NaN     -0.130542              0.0              0.0   \n",
       " 472        NaN     -0.095112              0.0              0.0   \n",
       " 264        NaN     -1.161154              0.0              0.0   \n",
       " ...        ...           ...              ...              ...   \n",
       " 1072       NaN     -0.307645              0.0              0.0   \n",
       " 273        NaN      1.227646              0.0              0.0   \n",
       " 361  -0.349383           NaN              NaN              NaN   \n",
       " 1262       NaN     -0.002537              0.0              0.0   \n",
       " 926        NaN      0.347826              0.0              0.0   \n",
       " \n",
       "       BldgType_Twnhs  BldgType_TwnhsE  GrLivArea_log  KitchenQual_Fa  \\\n",
       " 579              0.0              0.0       0.674518             0.0   \n",
       " 268              0.0              0.0      -1.831950             0.0   \n",
       " 24               0.0              0.0      -0.904661             0.0   \n",
       " 472              0.0              1.0      -0.870912             0.0   \n",
       " 264              0.0              0.0      -1.886391             0.0   \n",
       " ...              ...              ...            ...             ...   \n",
       " 1072             0.0              0.0       0.046991             0.0   \n",
       " 273              0.0              0.0       0.389108             0.0   \n",
       " 361              NaN              NaN            NaN             NaN   \n",
       " 1262             0.0              0.0       0.662804             0.0   \n",
       " 926              0.0              0.0       1.512686             0.0   \n",
       " \n",
       "       KitchenQual_Gd  KitchenQual_TA  ...  Neighborhood_Veenker  SaleType_CWD  \\\n",
       " 579              0.0             1.0  ...                   0.0           0.0   \n",
       " 268              0.0             1.0  ...                   0.0           0.0   \n",
       " 24               1.0             0.0  ...                   0.0           0.0   \n",
       " 472              0.0             1.0  ...                   0.0           0.0   \n",
       " 264              0.0             1.0  ...                   0.0           0.0   \n",
       " ...              ...             ...  ...                   ...           ...   \n",
       " 1072             0.0             1.0  ...                   0.0           0.0   \n",
       " 273              0.0             1.0  ...                   0.0           0.0   \n",
       " 361              NaN             NaN  ...                   NaN           NaN   \n",
       " 1262             0.0             1.0  ...                   0.0           0.0   \n",
       " 926              0.0             0.0  ...                   0.0           0.0   \n",
       " \n",
       "       SaleType_Con  SaleType_ConLD  SaleType_ConLI  SaleType_ConLw  \\\n",
       " 579            0.0             0.0             0.0             0.0   \n",
       " 268            0.0             0.0             0.0             0.0   \n",
       " 24             0.0             0.0             0.0             0.0   \n",
       " 472            0.0             0.0             0.0             0.0   \n",
       " 264            0.0             0.0             0.0             0.0   \n",
       " ...            ...             ...             ...             ...   \n",
       " 1072           0.0             0.0             0.0             0.0   \n",
       " 273            0.0             0.0             0.0             0.0   \n",
       " 361            NaN             NaN             NaN             NaN   \n",
       " 1262           0.0             0.0             0.0             0.0   \n",
       " 926            0.0             0.0             0.0             0.0   \n",
       " \n",
       "       SaleType_New  SaleType_Oth  SaleType_WD  Street_Pave  \n",
       " 579            0.0           0.0          1.0          1.0  \n",
       " 268            0.0           0.0          1.0          1.0  \n",
       " 24             0.0           0.0          1.0          1.0  \n",
       " 472            0.0           0.0          1.0          1.0  \n",
       " 264            0.0           0.0          1.0          1.0  \n",
       " ...            ...           ...          ...          ...  \n",
       " 1072           0.0           0.0          1.0          1.0  \n",
       " 273            0.0           0.0          1.0          1.0  \n",
       " 361            NaN           NaN          NaN          NaN  \n",
       " 1262           0.0           0.0          1.0          1.0  \n",
       " 926            0.0           0.0          1.0          1.0  \n",
       " \n",
       " [584 rows x 48 columns],\n",
       "              0  1stFlrSF_log  BldgType_2fmCon  BldgType_Duplex  \\\n",
       " 730        NaN      1.196638              0.0              0.0   \n",
       " 503   1.377215           NaN              NaN              NaN   \n",
       " 1250       NaN      2.036136              0.0              0.0   \n",
       " 59         NaN     -1.095922              0.0              0.0   \n",
       " 1033  0.805563           NaN              NaN              NaN   \n",
       " ...        ...           ...              ...              ...   \n",
       " 135        NaN      1.322624              0.0              0.0   \n",
       " 1308       NaN      0.048364              0.0              0.0   \n",
       " 214        NaN     -1.486356              0.0              0.0   \n",
       " 1453 -1.701191           NaN              NaN              NaN   \n",
       " 150  -0.781758           NaN              NaN              NaN   \n",
       " \n",
       "       BldgType_Twnhs  BldgType_TwnhsE  GrLivArea_log  KitchenQual_Fa  \\\n",
       " 730              0.0              1.0       0.359570             0.0   \n",
       " 503              NaN              NaN            NaN             NaN   \n",
       " 1250             0.0              0.0       1.159252             0.0   \n",
       " 59               0.0              0.0      -1.824253             0.0   \n",
       " 1033             NaN              NaN            NaN             NaN   \n",
       " ...              ...              ...            ...             ...   \n",
       " 135              0.0              0.0       0.479581             0.0   \n",
       " 1308             0.0              0.0      -0.734241             0.0   \n",
       " 214              0.0              0.0      -0.087775             0.0   \n",
       " 1453             NaN              NaN            NaN             NaN   \n",
       " 150              NaN              NaN            NaN             NaN   \n",
       " \n",
       "       KitchenQual_Gd  KitchenQual_TA  ...  Neighborhood_Veenker  SaleType_CWD  \\\n",
       " 730              1.0             0.0  ...                   0.0           0.0   \n",
       " 503              NaN             NaN  ...                   NaN           NaN   \n",
       " 1250             0.0             0.0  ...                   0.0           0.0   \n",
       " 59               0.0             1.0  ...                   0.0           0.0   \n",
       " 1033             NaN             NaN  ...                   NaN           NaN   \n",
       " ...              ...             ...  ...                   ...           ...   \n",
       " 135              0.0             1.0  ...                   0.0           0.0   \n",
       " 1308             1.0             0.0  ...                   0.0           0.0   \n",
       " 214              0.0             1.0  ...                   0.0           0.0   \n",
       " 1453             NaN             NaN  ...                   NaN           NaN   \n",
       " 150              NaN             NaN  ...                   NaN           NaN   \n",
       " \n",
       "       SaleType_Con  SaleType_ConLD  SaleType_ConLI  SaleType_ConLw  \\\n",
       " 730            0.0             0.0             0.0             0.0   \n",
       " 503            NaN             NaN             NaN             NaN   \n",
       " 1250           0.0             0.0             0.0             0.0   \n",
       " 59             0.0             0.0             0.0             0.0   \n",
       " 1033           NaN             NaN             NaN             NaN   \n",
       " ...            ...             ...             ...             ...   \n",
       " 135            0.0             0.0             0.0             0.0   \n",
       " 1308           0.0             0.0             0.0             0.0   \n",
       " 214            0.0             0.0             0.0             0.0   \n",
       " 1453           NaN             NaN             NaN             NaN   \n",
       " 150            NaN             NaN             NaN             NaN   \n",
       " \n",
       "       SaleType_New  SaleType_Oth  SaleType_WD  Street_Pave  \n",
       " 730            0.0           0.0          1.0          1.0  \n",
       " 503            NaN           NaN          NaN          NaN  \n",
       " 1250           0.0           0.0          1.0          1.0  \n",
       " 59             0.0           0.0          1.0          1.0  \n",
       " 1033           NaN           NaN          NaN          NaN  \n",
       " ...            ...           ...          ...          ...  \n",
       " 135            0.0           0.0          1.0          1.0  \n",
       " 1308           0.0           0.0          1.0          1.0  \n",
       " 214            0.0           0.0          1.0          1.0  \n",
       " 1453           NaN           NaN          NaN          NaN  \n",
       " 150            NaN           NaN          NaN          NaN  \n",
       " \n",
       " [584 rows x 48 columns],\n",
       "              0  1stFlrSF_log  BldgType_2fmCon  BldgType_Duplex  \\\n",
       " 1159  0.260507           NaN              NaN              NaN   \n",
       " 1337       NaN     -1.468137              0.0              0.0   \n",
       " 135   0.107046           NaN              NaN              NaN   \n",
       " 1211       NaN     -0.071712              0.0              0.0   \n",
       " 28    0.547840           NaN              NaN              NaN   \n",
       " ...        ...           ...              ...              ...   \n",
       " 1078 -0.167932           NaN              NaN              NaN   \n",
       " 158        NaN     -0.342388              0.0              0.0   \n",
       " 280        NaN      0.193630              0.0              0.0   \n",
       " 180        NaN     -1.140624              0.0              0.0   \n",
       " 614  -1.983125           NaN              NaN              NaN   \n",
       " \n",
       "       BldgType_Twnhs  BldgType_TwnhsE  GrLivArea_log  KitchenQual_Fa  \\\n",
       " 1159             NaN              NaN            NaN             NaN   \n",
       " 1337             0.0              0.0      -2.178814             1.0   \n",
       " 135              NaN              NaN            NaN             NaN   \n",
       " 1211             0.0              0.0       0.601825             0.0   \n",
       " 28               NaN              NaN            NaN             NaN   \n",
       " ...              ...              ...            ...             ...   \n",
       " 1078             NaN              NaN            NaN             NaN   \n",
       " 158              0.0              0.0       0.918214             0.0   \n",
       " 280              0.0              0.0       0.971629             0.0   \n",
       " 180              1.0              0.0       0.185805             0.0   \n",
       " 614              NaN              NaN            NaN             NaN   \n",
       " \n",
       "       KitchenQual_Gd  KitchenQual_TA  ...  Neighborhood_Veenker  SaleType_CWD  \\\n",
       " 1159             NaN             NaN  ...                   NaN           NaN   \n",
       " 1337             0.0             0.0  ...                   0.0           0.0   \n",
       " 135              NaN             NaN  ...                   NaN           NaN   \n",
       " 1211             0.0             1.0  ...                   0.0           0.0   \n",
       " 28               NaN             NaN  ...                   NaN           NaN   \n",
       " ...              ...             ...  ...                   ...           ...   \n",
       " 1078             NaN             NaN  ...                   NaN           NaN   \n",
       " 158              1.0             0.0  ...                   0.0           0.0   \n",
       " 280              1.0             0.0  ...                   0.0           0.0   \n",
       " 180              1.0             0.0  ...                   0.0           0.0   \n",
       " 614              NaN             NaN  ...                   NaN           NaN   \n",
       " \n",
       "       SaleType_Con  SaleType_ConLD  SaleType_ConLI  SaleType_ConLw  \\\n",
       " 1159           NaN             NaN             NaN             NaN   \n",
       " 1337           0.0             0.0             0.0             0.0   \n",
       " 135            NaN             NaN             NaN             NaN   \n",
       " 1211           0.0             0.0             0.0             0.0   \n",
       " 28             NaN             NaN             NaN             NaN   \n",
       " ...            ...             ...             ...             ...   \n",
       " 1078           NaN             NaN             NaN             NaN   \n",
       " 158            0.0             0.0             0.0             0.0   \n",
       " 280            0.0             0.0             0.0             0.0   \n",
       " 180            0.0             0.0             0.0             0.0   \n",
       " 614            NaN             NaN             NaN             NaN   \n",
       " \n",
       "       SaleType_New  SaleType_Oth  SaleType_WD  Street_Pave  \n",
       " 1159           NaN           NaN          NaN          NaN  \n",
       " 1337           0.0           0.0          1.0          1.0  \n",
       " 135            NaN           NaN          NaN          NaN  \n",
       " 1211           0.0           0.0          1.0          1.0  \n",
       " 28             NaN           NaN          NaN          NaN  \n",
       " ...            ...           ...          ...          ...  \n",
       " 1078           NaN           NaN          NaN          NaN  \n",
       " 158            0.0           0.0          1.0          1.0  \n",
       " 280            0.0           0.0          1.0          1.0  \n",
       " 180            0.0           0.0          1.0          1.0  \n",
       " 614            NaN           NaN          NaN          NaN  \n",
       " \n",
       " [584 rows x 48 columns],\n",
       "              0  1stFlrSF_log  BldgType_2fmCon  BldgType_Duplex  \\\n",
       " 1430       NaN     -1.287232              0.0              0.0   \n",
       " 314   0.163944           NaN              NaN              NaN   \n",
       " 1335       NaN      0.593069              0.0              0.0   \n",
       " 1223 -0.475068           NaN              NaN              NaN   \n",
       " 916        NaN     -2.623973              0.0              0.0   \n",
       " ...        ...           ...              ...              ...   \n",
       " 637        NaN     -0.973258              1.0              0.0   \n",
       " 99   -0.643058           NaN              NaN              NaN   \n",
       " 272        NaN      0.164027              0.0              0.0   \n",
       " 127        NaN     -0.862680              0.0              0.0   \n",
       " 470   0.601551           NaN              NaN              NaN   \n",
       " \n",
       "       BldgType_Twnhs  BldgType_TwnhsE  GrLivArea_log  KitchenQual_Fa  \\\n",
       " 1430             0.0              0.0       0.745491             0.0   \n",
       " 314              NaN              NaN            NaN             NaN   \n",
       " 1335             0.0              0.0      -0.215371             0.0   \n",
       " 1223             NaN              NaN            NaN             NaN   \n",
       " 916              0.0              0.0      -3.279829             0.0   \n",
       " ...              ...              ...            ...             ...   \n",
       " 637              0.0              0.0      -0.098564             0.0   \n",
       " 99               NaN              NaN            NaN             NaN   \n",
       " 272              0.0              0.0       1.378384             0.0   \n",
       " 127              0.0              0.0      -1.602074             0.0   \n",
       " 470              NaN              NaN            NaN             NaN   \n",
       " \n",
       "       KitchenQual_Gd  KitchenQual_TA  ...  Neighborhood_Veenker  SaleType_CWD  \\\n",
       " 1430             0.0             1.0  ...                   0.0           0.0   \n",
       " 314              NaN             NaN  ...                   NaN           NaN   \n",
       " 1335             0.0             1.0  ...                   0.0           0.0   \n",
       " 1223             NaN             NaN  ...                   NaN           NaN   \n",
       " 916              0.0             1.0  ...                   0.0           0.0   \n",
       " ...              ...             ...  ...                   ...           ...   \n",
       " 637              1.0             0.0  ...                   0.0           0.0   \n",
       " 99               NaN             NaN  ...                   NaN           NaN   \n",
       " 272              1.0             0.0  ...                   0.0           0.0   \n",
       " 127              0.0             1.0  ...                   0.0           0.0   \n",
       " 470              NaN             NaN  ...                   NaN           NaN   \n",
       " \n",
       "       SaleType_Con  SaleType_ConLD  SaleType_ConLI  SaleType_ConLw  \\\n",
       " 1430           0.0             0.0             0.0             0.0   \n",
       " 314            NaN             NaN             NaN             NaN   \n",
       " 1335           0.0             0.0             0.0             0.0   \n",
       " 1223           NaN             NaN             NaN             NaN   \n",
       " 916            0.0             0.0             0.0             0.0   \n",
       " ...            ...             ...             ...             ...   \n",
       " 637            0.0             0.0             0.0             0.0   \n",
       " 99             NaN             NaN             NaN             NaN   \n",
       " 272            0.0             0.0             0.0             0.0   \n",
       " 127            0.0             0.0             0.0             0.0   \n",
       " 470            NaN             NaN             NaN             NaN   \n",
       " \n",
       "       SaleType_New  SaleType_Oth  SaleType_WD  Street_Pave  \n",
       " 1430           0.0           0.0          1.0          1.0  \n",
       " 314            NaN           NaN          NaN          NaN  \n",
       " 1335           0.0           0.0          1.0          1.0  \n",
       " 1223           NaN           NaN          NaN          NaN  \n",
       " 916            0.0           0.0          1.0          1.0  \n",
       " ...            ...           ...          ...          ...  \n",
       " 637            0.0           0.0          1.0          1.0  \n",
       " 99             NaN           NaN          NaN          NaN  \n",
       " 272            0.0           0.0          1.0          1.0  \n",
       " 127            0.0           0.0          1.0          1.0  \n",
       " 470            NaN           NaN          NaN          NaN  \n",
       " \n",
       " [584 rows x 48 columns]]"
      ]
     },
     "execution_count": 9,
     "metadata": {},
     "output_type": "execute_result"
    }
   ],
   "source": [
    "# Apply kfolds() to ames_data with 5 folds\n",
    "kfolds(ames_data,5)"
   ]
  },
  {
   "cell_type": "markdown",
   "metadata": {},
   "source": [
    "### Perform a linear regression for each fold and calculate the training and test error"
   ]
  },
  {
   "cell_type": "markdown",
   "metadata": {},
   "source": [
    "Perform linear regression on each and calculate the training and test error: "
   ]
  },
  {
   "cell_type": "code",
   "execution_count": null,
   "metadata": {},
   "outputs": [],
   "source": [
    "test_errs = []\n",
    "train_errs = []\n",
    "k=5\n",
    "\n",
    "for n in range(k):\n",
    "    # Split in train and test for the fold\n",
    "    train = None\n",
    "    test = None\n",
    "    # Fit a linear regression model\n",
    "    \n",
    "    # Evaluate Train and Test errors\n",
    "\n",
    "# print(train_errs)\n",
    "# print(test_errs)"
   ]
  },
  {
   "cell_type": "markdown",
   "metadata": {},
   "source": [
    "## Cross-Validation using Scikit-Learn"
   ]
  },
  {
   "cell_type": "markdown",
   "metadata": {},
   "source": [
    "This was a bit of work! Now, let's perform 5-fold cross-validation to get the mean squared error through scikit-learn. Let's have a look at the five individual MSEs and explain what's going on."
   ]
  },
  {
   "cell_type": "code",
   "execution_count": null,
   "metadata": {},
   "outputs": [],
   "source": [
    "# Your code here"
   ]
  },
  {
   "cell_type": "markdown",
   "metadata": {},
   "source": [
    "Next, calculate the mean of the MSE over the 5 cross-validation and compare and contrast with the result from the train-test split case."
   ]
  },
  {
   "cell_type": "code",
   "execution_count": null,
   "metadata": {},
   "outputs": [],
   "source": [
    "# Your code here"
   ]
  },
  {
   "cell_type": "markdown",
   "metadata": {},
   "source": [
    "##  Summary "
   ]
  },
  {
   "cell_type": "markdown",
   "metadata": {},
   "source": [
    "Congratulations! You are now familiar with cross-validation and know how to use `cross_val_score()`. Remember that the results obtained from cross-validation are robust and always use it whenever possible! "
   ]
  }
 ],
 "metadata": {
  "kernelspec": {
   "display_name": "Python 3",
   "language": "python",
   "name": "python3"
  },
  "language_info": {
   "codemirror_mode": {
    "name": "ipython",
    "version": 3
   },
   "file_extension": ".py",
   "mimetype": "text/x-python",
   "name": "python",
   "nbconvert_exporter": "python",
   "pygments_lexer": "ipython3",
   "version": "3.6.9"
  }
 },
 "nbformat": 4,
 "nbformat_minor": 2
}
